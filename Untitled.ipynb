{
 "cells": [
  {
   "cell_type": "code",
   "execution_count": 1,
   "metadata": {},
   "outputs": [],
   "source": [
    "from PIL import Image, ImageDraw, ImageFont\n",
    "import random\n",
    "from io import BytesIO"
   ]
  },
  {
   "cell_type": "code",
   "execution_count": 13,
   "metadata": {},
   "outputs": [],
   "source": [
    "def verify_code():\n",
    "    # 1，定义变量，用于画面的背景色、宽、高\n",
    "    # random.randrange(20, 100)意思是在20到100之间随机找一个数\n",
    "    bgcolor = tuple([random.randrange(20, 100), random.randrange(20, 100), 255])\n",
    "    width = 100\n",
    "    height = 25\n",
    "    # 2，创建画面对象\n",
    "    im = Image.new('RGB', (width, height), bgcolor)\n",
    "    # 3，创建画笔对象\n",
    "    draw = ImageDraw.Draw(im)\n",
    "    # 4，调用画笔的point()函数绘制噪点，防止攻击\n",
    "    for i in range(0, 100):\n",
    "        # 噪点绘制的范围\n",
    "        xy = (random.randrange(0, width), random.randrange(0, height))\n",
    "        # 噪点的随机颜色\n",
    "        fill = (random.randrange(0, 255), 255, random.randrange(0, 255))\n",
    "        # 绘制出噪点\n",
    "        draw.point(xy, fill=fill)\n",
    "    # 5，定义验证码的备选值\n",
    "    str1 = 'ABCD123EFGHIJK456LMNOPQRS789TUVWXYZ0'\n",
    "    # 6，随机选取4个值作为验证码\n",
    "    rand_str = ''\n",
    "    for i in range(0, 4):\n",
    "        rand_str += str1[random.randrange(0, len(str1))]\n",
    "    # 7，构造字体对象，ubuntu的字体路径为“/usr/share/fonts/truetype/freefont”\n",
    "    #font = ImageFont.truetype('FreeMono.ttf', 23)\n",
    "    font = ImageFont.truetype(\"ArialHB.ttc\",24,index=1)\n",
    "    # 8，构造字体颜色\n",
    "    fontcolor = (255, random.randrange(0, 255), random.randrange(0, 255))\n",
    "    # 9，绘制4个字\n",
    "    draw.text((5, 2), rand_str[0], font=font, fill=fontcolor)\n",
    "    draw.text((25, 2), rand_str[1], font=font, fill=fontcolor)\n",
    "    draw.text((50, 2), rand_str[2], font=font, fill=fontcolor)\n",
    "    draw.text((75, 2), rand_str[3], font=font, fill=fontcolor)\n",
    "    # 9，用完画笔，释放画笔\n",
    "    del draw\n",
    "    # 10，存入session，用于做进一步验证\n",
    "    #request.session['verifycode'] = rand_str\n",
    "    # 11，内存文件操作\n",
    "    buf = BytesIO()\n",
    "    # 12，将图片保存在内存中，文件类型为png\n",
    "    im.save(buf, 'png')\n",
    "    # 13，将内存中的图片数据返回给客户端，MIME类型为图片png\n",
    "    print(buf.getvalue())"
   ]
  },
  {
   "cell_type": "code",
   "execution_count": 14,
   "metadata": {},
   "outputs": [
    {
     "name": "stdout",
     "output_type": "stream",
     "text": [
      "b'\\x89PNG\\r\\n\\x1a\\n\\x00\\x00\\x00\\rIHDR\\x00\\x00\\x00d\\x00\\x00\\x00\\x19\\x08\\x02\\x00\\x00\\x00H<\\x1c\\x1c\\x00\\x00\\x04#IDATx\\x9c\\xcdYkh\\x14W\\x14>.b\\xd0T+*h\\xb1\\x9a\\xd6\\xd5\\x1f&\\xd8\\x98ti\\xb5\\xc9\\x11\\x11Q\\xa8\\xcf\\xa0U\\x8aR_\\x88\\xa4\\xa2\\xc4&0\\xd1\"\\x8d\\xb4\\xd5,\\xc4\\x07\\x844\\x88\\xf8\\x82\\x88\\xb4\\xb5$\\x8d\\xdaj\\x91\\x12\\xfa\\x19kK\\xea\\xfa VI7mj\\xa5\\x15\\xa2\\xf8\\x8a\\xa2\\x14\\xe3\\x8f\\xc9\\xceN\\xef\\xbdsgf\\xb3\\xbb\\xcd\\xf7\\xeb\\xcc\\x99\\xef\\x9c{\\xf8\\xe6\\xee\\xbd\\xe7\\xde\\xed\\x97_\\xd8M\\xa9\\xc4@\\xec;D\\x1dK\\xf9\\x93\\x94\\x8e\\xe2\\x0bA,\\x8b\\xf2\\x11\\r\\xe1/\\xfc\\xf42\\xbf)\\xfb\\x03)+\\x896\\xa0\\x86\\x88\\x1e\\xf3\\xda\\xf4(\\x95\\x87/<2-\\xa5\\x16\\xe3\\x82\\x92\\xa0T\\x8a,\\xb1\\xa6\\xe2[\\x9f\\xb5\\xb9\\xa3\\x9a\\xd7\\xbbr\\xaa\\xd0DD\\xb3\\x90\\x045#\\xbc\\xc4o\\xc81\\xce\\xf7\\xc5\\xef\\x97_\\xd8}\\x0c\\x9d\\x8by\\x84\\xdf\\x91R\\x8d1\\x18\\x7f\\x83\\x7f\\xfb\\x7fkx\\x11+\\xef\\xf1!\\xeb1@D\\xc9U\\xaa\\x0e\\xcd\\xae\\x9cRD5o#(\"\"\\'\\xa5\\x06a\\xa6\\xe0\\xb9\\x8e\\x8dN\\xa9\\xaaq\\xd0\\xb5\\x18\\r\\xecJ\\x919\\xb3\\x94\\xbcm\\xa5\\xfb#\\xad\\x13\\xec\\x9e\\x90\\xd1\\xd9\\x12\\x8e\\xcb\\x9a\\x97\\xd3\\xf6\\xd1\\xce5\\xa6\\xbd\\x1ac\\x0f\\xf0\\x9f\\x9aX\\x01\\xf6X=\\xfaT\\xaa\\xfeN/\"\\xad\\x13\\x1aNM3\\xed\\x01\\x98\\xff\\x94\\x1b\\x1bN9f\\xb1+%\\xc4\\x12Q%n\\x94\\xf3\\x18M\\x11\\x02\\xf6\\xe0\\xa5\\x12\\xfe[\\x99\\xca;\\xb6\\xa0h;\\xd7\\xcbU5`\\xf3B\\xde!\\xf3\\x0f#X\\xff\\xa9\\xcb4\\xf4\\xb4\\x1b>\\xe5F\\xefU\\xca\\xd8F\\x9b}\\xf1-\\xa54x\\x1d\\xed\\x96]\\x87U2AP*\\x8c\\x9e\\xcf\\xa9T*\\x13?\\xae\\xe0(\\x11\\x8d\\xc6\\xf7\\x9aAS\\xd8:Xx\\xccu\\xb2\\xb3\\n\\x15\\x9a\\x90q\\xd8e\\xd99X.\\x13~\\xe1q\\x96\\xbd\\x9c\\xe33\\xa2\\x18g\\x95\\t\\r\\x1e\\xab\\x19\\xae\\x8b\\xa7\\x9a\\xc6M\\x9e\\xa1\\xa1\\xa5C,\\x13w\\xb1\\xd3\\xfeX\\xc6\\x15\\x1ar;\\x7f`\\x1a\\x19\\xc6\\xd6V\\x95\\xd6N\\xa8\\xe5B\\xff\\xa5\\xe9\\xd0\\x84x{\\x11 \\xa2\\x16,M\\xee\\x00J\\x0c\\xe5R\\xbf!#\\xd1\\xf6$\\xfc\\xb1i\\xbf\\x80=2a\\xb8m\\x02z\\xc1-|&;\\x8b\\xf1\\x87&d:\\xc7\\x1b\\xd7\\x00\\x11\\x85\\xf8s_C\\xf6\\x1e\\xf3\\x8cs^h\\xb78\\xbey=\\xe4\\x12\\x99p;6\\x01=b$\\xbf/;k\\xf9\\x15%y\\x1a\\x86\\x0b\\x1e\\xf1g8\\x11\\xeem\\xf7y\\xec\\xb6\\xecop^&\\xac6\\xee+\\x03\\x9f`\\xa5i\\x1c\\x0f\\xbf\\xe5\\x94|4\\xee\\xb8\\x16\\x90\\x1e\\xfc\\xc0\\xb7\\x05\\x8f(\\xd6\\xaf\\\\\\xa3\\x89\\xcfB\\x84\\x88\\xa6\\xf0&\\xcb\\xf36O\\x91i\\x07\\xc2C\\x94\\xe1\\x19\\xb6\\x1e\\xef\\x12\\x9e)97y\\x98i\\x8cB\\x99\\xa6\\x92\\xa4\\xa3\\xc9\\xb6\\xbd\\x9a\\x98\\r\\xf1\\x07\\xa7^\\xe0\\x9b\\xd1\\xa9\\xf4wp\\x9e\\xfd1\\x88Y\\x89\\xd6F\\xb9\\xec\\xb2\\xb7\\xfc\\xc3U\\xbe\\x12V@\\xec\\x19\\xbbp\\xc2{\\xf8t\\xdb\\xf6j\\xe24\\x8bK\\xb9\\xba\\xe2\\x02\\xb7\\x03\\xd0`\\x84\\x88(\\xca\\xdf\\x11\\xd1\\x02<\\xf2^\\x93_<0\\xb6xdV\\xf0\\xbf\\x82\\'\\x93\\xe7&\\xb7\\x18\\x97\\xcf\\x9b\\x893J\\xff\\x03n\\xb1\\xec\\xafy\\x90>\\t\\xe3K\\xbfeY\\x18\\x1c\\xde\\x9epl/\\xf1\\x1a.\\t\\x9e\\xc0\\x1b\\x98cZ5\\xe8\\x90\\x03\\xbaX<\\xb5\\xda\\x91\\x85\\xc9\\xa6q:\\xb6\\xcc\\xd7\\xa2R\\xa6\\x81\\xdf\\xf1Yg\\x9f\\xc0e\\xce\\x15<\\x81\\x9f\\xf9\\xa4i\\xad\\xe7,\\xbf\\xe9:\\xf8\\xa2i\\xcc\\x8e-\\xf3\\xc5\\\\\\x9exuDADz\\x13\\x9e\",D\\xcfr\\xe6x\\x90\\xce\\xcbi\\x13<+\\x8cM\\x87\\xc3=MC\\xb6\\xb1;\\xe3\\xc4\\\\\\xa7#\\xae\\x10\\xbb\\xce(\\xdf\\x1b\\xae\\x14\\x08\\xca\\xd8\\xe8\\x7f7\\x10e\\x192a\\xc6\\x87\\xd1\\x8d\\xbc\\x8a\\x88\\x1a\\x919\\x9f\\xbb4L\\xd7T\\xca\\xaa\\x1a\\xb8\\x9d\\x88\\xba\\x91\\xebxE#\\xa0\\x19\\xa1\\x82\\xd8:U\\x84E\\xf5\\xfc\\x95\\x97\\xa8Ih\\xb9\\xc2!/\\xcc>\\x8b\\xa3\\xd8\\xf0.W\\x9b\\xb6\\xd7\\xb3a\\x81mE\\xf7\\xa8\\x14\\x11%\\xacT\\x89t\\xa1~!\\xd6\\xa6@j\\xd0jp-\\xb1Q48\\x88\\x9e\\xb6\\xd9R\\x8a4\\x97\\x7f}\\x1f\\xbf\\xe3\\xea\\xab\\x9c\\x9d\\xce\\x11\\x93s\\xeb0\\xb9\\x17\\xcdA\\xc2H\\xb5R\\xc7\\x11\\x14<\\xa2X\\x0f\\x9d\\xef\\xb3\\x95\\x18\\x8aGDt1]\\xcd\\xc1{\\xaak\\x83\\x14a\\x1e\\x8b\\x7f\\x14<\\x07\\xee4`\\x97\\x9e\\xa5)V\\x00\\x00\\x00\\x00IEND\\xaeB`\\x82'\n"
     ]
    }
   ],
   "source": [
    "verify_code()"
   ]
  },
  {
   "cell_type": "code",
   "execution_count": 10,
   "metadata": {},
   "outputs": [
    {
     "data": {
      "text/plain": [
       "<PIL.ImageFont.FreeTypeFont at 0x10a7a7908>"
      ]
     },
     "execution_count": 10,
     "metadata": {},
     "output_type": "execute_result"
    }
   ],
   "source": [
    "ImageFont.truetype(\"ArialHB.ttc\",24,index=1)"
   ]
  },
  {
   "cell_type": "code",
   "execution_count": 5,
   "metadata": {},
   "outputs": [
    {
     "name": "stdout",
     "output_type": "stream",
     "text": [
      "[63, 65, 255]\n"
     ]
    }
   ],
   "source": [
    "print(bgcolor)"
   ]
  },
  {
   "cell_type": "code",
   "execution_count": 6,
   "metadata": {},
   "outputs": [
    {
     "data": {
      "text/plain": [
       "list"
      ]
     },
     "execution_count": 6,
     "metadata": {},
     "output_type": "execute_result"
    }
   ],
   "source": [
    "type(bgcolor)"
   ]
  },
  {
   "cell_type": "code",
   "execution_count": null,
   "metadata": {},
   "outputs": [],
   "source": []
  }
 ],
 "metadata": {
  "kernelspec": {
   "display_name": "Python 3",
   "language": "python",
   "name": "python3"
  },
  "language_info": {
   "codemirror_mode": {
    "name": "ipython",
    "version": 3
   },
   "file_extension": ".py",
   "mimetype": "text/x-python",
   "name": "python",
   "nbconvert_exporter": "python",
   "pygments_lexer": "ipython3",
   "version": "3.6.4"
  }
 },
 "nbformat": 4,
 "nbformat_minor": 2
}
